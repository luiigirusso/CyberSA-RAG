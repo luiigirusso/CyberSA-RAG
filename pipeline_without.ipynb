{
  "nbformat": 4,
  "nbformat_minor": 0,
  "metadata": {
    "colab": {
      "provenance": [],
      "collapsed_sections": [
        "UBS5HVqU1q3r"
      ]
    },
    "kernelspec": {
      "name": "python3",
      "display_name": "Python 3"
    },
    "language_info": {
      "name": "python"
    }
  },
  "cells": [
    {
      "cell_type": "markdown",
      "source": [
        "# Pipeline 2\n",
        "+ knowledge base\n",
        "+ vector database\n",
        "+ rag"
      ],
      "metadata": {
        "id": "bOLTQI7M1MIP"
      }
    },
    {
      "cell_type": "code",
      "source": [
        "from google.colab import drive\n",
        "drive.mount('/content/drive')"
      ],
      "metadata": {
        "colab": {
          "base_uri": "https://localhost:8080/"
        },
        "id": "zUMrPbF2mW7O",
        "outputId": "51ee8d04-5e9e-4950-9e4f-47986970a090"
      },
      "execution_count": 1,
      "outputs": [
        {
          "output_type": "stream",
          "name": "stdout",
          "text": [
            "Mounted at /content/drive\n"
          ]
        }
      ]
    },
    {
      "cell_type": "code",
      "source": [
        "!pip install python-dotenv"
      ],
      "metadata": {
        "id": "jis-DUz_1Y4r",
        "colab": {
          "base_uri": "https://localhost:8080/"
        },
        "outputId": "0a98cb36-9ccb-42e2-d014-b3a7a3b7a957"
      },
      "execution_count": 2,
      "outputs": [
        {
          "output_type": "stream",
          "name": "stdout",
          "text": [
            "Collecting python-dotenv\n",
            "  Downloading python_dotenv-1.0.1-py3-none-any.whl.metadata (23 kB)\n",
            "Downloading python_dotenv-1.0.1-py3-none-any.whl (19 kB)\n",
            "Installing collected packages: python-dotenv\n",
            "Successfully installed python-dotenv-1.0.1\n"
          ]
        }
      ]
    },
    {
      "cell_type": "code",
      "source": [
        "from dotenv import load_dotenv\n",
        "load_dotenv(\"/content/drive/Shareddrives/Knowledge Graph/code/pipeline2/.env\", override=True)"
      ],
      "metadata": {
        "colab": {
          "base_uri": "https://localhost:8080/"
        },
        "id": "qQD8qn6-mKe7",
        "outputId": "57d0e0e1-f819-401d-9ec0-78b186f12f29"
      },
      "execution_count": 3,
      "outputs": [
        {
          "output_type": "execute_result",
          "data": {
            "text/plain": [
              "True"
            ]
          },
          "metadata": {},
          "execution_count": 3
        }
      ]
    },
    {
      "cell_type": "markdown",
      "source": [
        "## Knowledge base\n",
        "In this component we perform the loading of the knowledge base"
      ],
      "metadata": {
        "id": "UBS5HVqU1q3r"
      }
    },
    {
      "cell_type": "code",
      "source": [
        "%cd /content/drive/Shareddrives/Knowledge Graph/code/pipeline2/0.knowledge_base\n",
        "!pip install -r requirements.txt"
      ],
      "metadata": {
        "id": "_PCbEHgk1qhz",
        "colab": {
          "base_uri": "https://localhost:8080/"
        },
        "outputId": "5b0079e3-8ef1-427a-f950-e24db7270291"
      },
      "execution_count": null,
      "outputs": [
        {
          "output_type": "stream",
          "name": "stdout",
          "text": [
            "/content/drive/Shareddrives/Knowledge Graph/code/pipeline2/0.knowledge_base\n",
            "Requirement already satisfied: rdflib in /usr/local/lib/python3.10/dist-packages (from -r requirements.txt (line 1)) (7.1.1)\n",
            "Requirement already satisfied: isodate<1.0.0,>=0.7.2 in /usr/local/lib/python3.10/dist-packages (from rdflib->-r requirements.txt (line 1)) (0.7.2)\n",
            "Requirement already satisfied: pyparsing<4,>=2.1.0 in /usr/local/lib/python3.10/dist-packages (from rdflib->-r requirements.txt (line 1)) (3.2.0)\n"
          ]
        }
      ]
    },
    {
      "cell_type": "code",
      "source": [
        "%cd /content/drive/Shareddrives/Knowledge Graph/code/pipeline2/files"
      ],
      "metadata": {
        "colab": {
          "base_uri": "https://localhost:8080/"
        },
        "id": "8Y80STpqmV-R",
        "outputId": "9ccead6f-89c9-4b43-c5ea-0303831e64d7"
      },
      "execution_count": null,
      "outputs": [
        {
          "output_type": "stream",
          "name": "stdout",
          "text": [
            "/content/drive/Shareddrives/Knowledge Graph/code/pipeline2/files\n"
          ]
        }
      ]
    },
    {
      "cell_type": "code",
      "execution_count": null,
      "metadata": {
        "id": "RIWBanUSzqVL",
        "colab": {
          "base_uri": "https://localhost:8080/"
        },
        "outputId": "cd57bada-f59b-496f-a000-6fb3b10c7401"
      },
      "outputs": [
        {
          "output_type": "stream",
          "name": "stdout",
          "text": [
            "31310 triples extracted\n"
          ]
        }
      ],
      "source": [
        "import rdflib\n",
        "import json\n",
        "import os\n",
        "\n",
        "def knowledge_base():\n",
        "  def parse_rdf(file_path):\n",
        "      g = rdflib.Graph()\n",
        "      try:\n",
        "          g.parse(file_path, format='ttl')\n",
        "      except rdflib.exceptions.ParserError as e:\n",
        "          print(f\"Errore di parsing: {e}\")\n",
        "      triples = [(str(s), str(p), str(o)) for s, p, o in g]\n",
        "      return triples\n",
        "\n",
        "  input_path = os.getenv(\"input_path\")\n",
        "  rdf_triples = parse_rdf(input_path)\n",
        "  print(f'{len(rdf_triples)} triples extracted')\n",
        "  with open(os.getenv(\"output_path\"), 'w', encoding='utf-8') as f:\n",
        "    json.dump(rdf_triples, f, ensure_ascii=False, indent=4)\n",
        "if __name__ == '__main__':\n",
        "  knowledge_base()"
      ]
    },
    {
      "cell_type": "code",
      "source": [
        "with open(\"/content/triples.json\", \"r\") as file:\n",
        "      triples = json.load(file)"
      ],
      "metadata": {
        "id": "xcbHBSawq_Qz"
      },
      "execution_count": null,
      "outputs": []
    },
    {
      "cell_type": "code",
      "source": [
        "for triple in triples:\n",
        "  print(triple)"
      ],
      "metadata": {
        "colab": {
          "base_uri": "https://localhost:8080/"
        },
        "id": "rFnHu6ADrGd1",
        "outputId": "d512ab68-46b0-4858-c8f7-f15fb0e35aee"
      },
      "execution_count": null,
      "outputs": [
        {
          "output_type": "stream",
          "name": "stdout",
          "text": [
            "['http://example.org/entities/MailDatabase', 'http://www.w3.org/1999/02/22-rdf-syntax-ns#type', 'http://example.org/d3f/Database']\n",
            "['http://example.org/entities/IMAPServer', 'http://example.org/d3f/reads', 'http://example.org/entities/MailDatabase']\n",
            "['http://example.org/entities/EmailClient', 'http://example.org/d3f/SendsEmail', 'http://example.org/entities/SMTPServer']\n",
            "['http://example.org/entities/EmailClient', 'http://www.w3.org/2000/01/rdf-schema#label', 'Email Client']\n",
            "['http://example.org/entities/IMAPServer', 'http://www.w3.org/2000/01/rdf-schema#label', 'IMAP Server']\n",
            "['http://example.org/entities/MailDatabase', 'http://www.w3.org/2000/01/rdf-schema#label', 'Mail Database']\n",
            "['http://example.org/entities/SMTPServer', 'http://example.org/d3f/writes', 'http://example.org/entities/MailDatabase']\n",
            "['http://example.org/entities/SMTPServer', 'http://www.w3.org/1999/02/22-rdf-syntax-ns#type', 'http://example.org/d3f/MailServer']\n",
            "['http://example.org/entities/IMAPServer', 'http://example.org/d3f/EmailRetrieval', 'http://example.org/entities/EmailClient']\n",
            "['http://example.org/entities/SMTPServer', 'http://example.org/d3f/EmailDelivery', 'http://example.org/entities/IMAPServer']\n",
            "['http://example.org/entities/IMAPServer', 'http://www.w3.org/1999/02/22-rdf-syntax-ns#type', 'http://example.org/d3f/MailServer']\n",
            "['http://example.org/entities/SMTPServer', 'http://www.w3.org/2000/01/rdf-schema#label', 'SMTP Server']\n",
            "['http://example.org/entities/EmailClient', 'http://www.w3.org/1999/02/22-rdf-syntax-ns#type', 'http://example.org/d3f/User']\n"
          ]
        }
      ]
    },
    {
      "cell_type": "markdown",
      "source": [
        "## Vector Database"
      ],
      "metadata": {
        "id": "thLVvEQyKdCj"
      }
    },
    {
      "cell_type": "code",
      "source": [
        "%cd /content/drive/Shareddrives/Knowledge Graph/code/pipeline2/1.vector_database\n",
        "!pip install -r requirements.txt"
      ],
      "metadata": {
        "id": "4yDpDKyQIJBI",
        "colab": {
          "base_uri": "https://localhost:8080/"
        },
        "outputId": "ce443de3-8a16-4c32-d192-f4e9c76f9644"
      },
      "execution_count": 14,
      "outputs": [
        {
          "output_type": "stream",
          "name": "stdout",
          "text": [
            "/content/drive/Shareddrives/Knowledge Graph/code/pipeline2/1.vector_database\n",
            "Collecting git+https://github.com/pykeen/pykeen.git (from -r requirements.txt (line 3))\n",
            "  Cloning https://github.com/pykeen/pykeen.git to /tmp/pip-req-build-mx3pryss\n",
            "  Running command git clone --filter=blob:none --quiet https://github.com/pykeen/pykeen.git /tmp/pip-req-build-mx3pryss\n",
            "  Resolved https://github.com/pykeen/pykeen.git to commit 8b4d4811bb70a9765f4c5dd45011cdd87749502a\n",
            "  Installing build dependencies ... \u001b[?25l\u001b[?25hdone\n",
            "  Getting requirements to build wheel ... \u001b[?25l\u001b[?25hdone\n",
            "  Preparing metadata (pyproject.toml) ... \u001b[?25l\u001b[?25hdone\n",
            "Requirement already satisfied: torch in /usr/local/lib/python3.10/dist-packages (from -r requirements.txt (line 1)) (2.5.1+cu121)\n",
            "Requirement already satisfied: pandas in /usr/local/lib/python3.10/dist-packages (from -r requirements.txt (line 2)) (2.2.2)\n",
            "Requirement already satisfied: weaviate-client in /usr/local/lib/python3.10/dist-packages (from -r requirements.txt (line 4)) (4.10.2)\n",
            "Requirement already satisfied: filelock in /usr/local/lib/python3.10/dist-packages (from torch->-r requirements.txt (line 1)) (3.16.1)\n",
            "Requirement already satisfied: typing-extensions>=4.8.0 in /usr/local/lib/python3.10/dist-packages (from torch->-r requirements.txt (line 1)) (4.12.2)\n",
            "Requirement already satisfied: networkx in /usr/local/lib/python3.10/dist-packages (from torch->-r requirements.txt (line 1)) (3.4.2)\n",
            "Requirement already satisfied: jinja2 in /usr/local/lib/python3.10/dist-packages (from torch->-r requirements.txt (line 1)) (3.1.4)\n",
            "Requirement already satisfied: fsspec in /usr/local/lib/python3.10/dist-packages (from torch->-r requirements.txt (line 1)) (2024.10.0)\n",
            "Requirement already satisfied: sympy==1.13.1 in /usr/local/lib/python3.10/dist-packages (from torch->-r requirements.txt (line 1)) (1.13.1)\n",
            "Requirement already satisfied: mpmath<1.4,>=1.1.0 in /usr/local/lib/python3.10/dist-packages (from sympy==1.13.1->torch->-r requirements.txt (line 1)) (1.3.0)\n",
            "Requirement already satisfied: numpy>=1.22.4 in /usr/local/lib/python3.10/dist-packages (from pandas->-r requirements.txt (line 2)) (1.26.4)\n",
            "Requirement already satisfied: python-dateutil>=2.8.2 in /usr/local/lib/python3.10/dist-packages (from pandas->-r requirements.txt (line 2)) (2.8.2)\n",
            "Requirement already satisfied: pytz>=2020.1 in /usr/local/lib/python3.10/dist-packages (from pandas->-r requirements.txt (line 2)) (2024.2)\n",
            "Requirement already satisfied: tzdata>=2022.7 in /usr/local/lib/python3.10/dist-packages (from pandas->-r requirements.txt (line 2)) (2024.2)\n",
            "Requirement already satisfied: dataclasses-json in /usr/local/lib/python3.10/dist-packages (from pykeen==1.11.1.dev0->-r requirements.txt (line 3)) (0.6.7)\n",
            "Requirement already satisfied: scipy>=1.7.0 in /usr/local/lib/python3.10/dist-packages (from pykeen==1.11.1.dev0->-r requirements.txt (line 3)) (1.13.1)\n",
            "Requirement already satisfied: click in /usr/local/lib/python3.10/dist-packages (from pykeen==1.11.1.dev0->-r requirements.txt (line 3)) (8.1.7)\n",
            "Collecting click_default_group (from pykeen==1.11.1.dev0->-r requirements.txt (line 3))\n",
            "  Downloading click_default_group-1.2.4-py2.py3-none-any.whl.metadata (2.8 kB)\n",
            "Requirement already satisfied: scikit-learn in /usr/local/lib/python3.10/dist-packages (from pykeen==1.11.1.dev0->-r requirements.txt (line 3)) (1.6.0)\n",
            "Requirement already satisfied: tqdm in /usr/local/lib/python3.10/dist-packages (from pykeen==1.11.1.dev0->-r requirements.txt (line 3)) (4.67.1)\n",
            "Requirement already satisfied: requests in /usr/local/lib/python3.10/dist-packages (from pykeen==1.11.1.dev0->-r requirements.txt (line 3)) (2.32.3)\n",
            "Collecting optuna>=2.0.0 (from pykeen==1.11.1.dev0->-r requirements.txt (line 3))\n",
            "  Downloading optuna-4.1.0-py3-none-any.whl.metadata (16 kB)\n",
            "Requirement already satisfied: tabulate in /usr/local/lib/python3.10/dist-packages (from pykeen==1.11.1.dev0->-r requirements.txt (line 3)) (0.9.0)\n",
            "Collecting more_click (from pykeen==1.11.1.dev0->-r requirements.txt (line 3))\n",
            "  Downloading more_click-0.1.2-py3-none-any.whl.metadata (4.3 kB)\n",
            "Requirement already satisfied: more_itertools in /usr/local/lib/python3.10/dist-packages (from pykeen==1.11.1.dev0->-r requirements.txt (line 3)) (10.5.0)\n",
            "Collecting pystow>=0.4.3 (from pykeen==1.11.1.dev0->-r requirements.txt (line 3))\n",
            "  Downloading pystow-0.6.1-py3-none-any.whl.metadata (17 kB)\n",
            "Collecting docdata (from pykeen==1.11.1.dev0->-r requirements.txt (line 3))\n",
            "  Downloading docdata-0.0.4-py3-none-any.whl.metadata (13 kB)\n",
            "Collecting class_resolver>=0.5.4 (from pykeen==1.11.1.dev0->-r requirements.txt (line 3))\n",
            "  Downloading class_resolver-0.5.4-py3-none-any.whl.metadata (14 kB)\n",
            "Requirement already satisfied: pyyaml in /usr/local/lib/python3.10/dist-packages (from pykeen==1.11.1.dev0->-r requirements.txt (line 3)) (6.0.2)\n",
            "Collecting torch_max_mem>=0.1.1 (from pykeen==1.11.1.dev0->-r requirements.txt (line 3))\n",
            "  Downloading torch_max_mem-0.1.3-py3-none-any.whl.metadata (7.4 kB)\n",
            "Collecting torch-ppr>=0.0.7 (from pykeen==1.11.1.dev0->-r requirements.txt (line 3))\n",
            "  Downloading torch_ppr-0.0.8-py3-none-any.whl.metadata (9.3 kB)\n",
            "Requirement already satisfied: httpx<0.29.0,>=0.26.0 in /usr/local/lib/python3.10/dist-packages (from weaviate-client->-r requirements.txt (line 4)) (0.28.1)\n",
            "Requirement already satisfied: validators==0.34.0 in /usr/local/lib/python3.10/dist-packages (from weaviate-client->-r requirements.txt (line 4)) (0.34.0)\n",
            "Requirement already satisfied: authlib<1.3.2,>=1.2.1 in /usr/local/lib/python3.10/dist-packages (from weaviate-client->-r requirements.txt (line 4)) (1.3.1)\n",
            "Requirement already satisfied: pydantic<3.0.0,>=2.8.0 in /usr/local/lib/python3.10/dist-packages (from weaviate-client->-r requirements.txt (line 4)) (2.10.3)\n",
            "Requirement already satisfied: grpcio<2.0.0,>=1.66.2 in /usr/local/lib/python3.10/dist-packages (from weaviate-client->-r requirements.txt (line 4)) (1.69.0)\n",
            "Requirement already satisfied: grpcio-tools<2.0.0,>=1.66.2 in /usr/local/lib/python3.10/dist-packages (from weaviate-client->-r requirements.txt (line 4)) (1.69.0)\n",
            "Requirement already satisfied: grpcio-health-checking<2.0.0,>=1.66.2 in /usr/local/lib/python3.10/dist-packages (from weaviate-client->-r requirements.txt (line 4)) (1.69.0)\n",
            "Requirement already satisfied: cryptography in /usr/local/lib/python3.10/dist-packages (from authlib<1.3.2,>=1.2.1->weaviate-client->-r requirements.txt (line 4)) (43.0.3)\n",
            "Requirement already satisfied: protobuf<6.0dev,>=5.26.1 in /usr/local/lib/python3.10/dist-packages (from grpcio-health-checking<2.0.0,>=1.66.2->weaviate-client->-r requirements.txt (line 4)) (5.29.2)\n",
            "Requirement already satisfied: setuptools in /usr/local/lib/python3.10/dist-packages (from grpcio-tools<2.0.0,>=1.66.2->weaviate-client->-r requirements.txt (line 4)) (75.1.0)\n",
            "Requirement already satisfied: anyio in /usr/local/lib/python3.10/dist-packages (from httpx<0.29.0,>=0.26.0->weaviate-client->-r requirements.txt (line 4)) (3.7.1)\n",
            "Requirement already satisfied: certifi in /usr/local/lib/python3.10/dist-packages (from httpx<0.29.0,>=0.26.0->weaviate-client->-r requirements.txt (line 4)) (2024.12.14)\n",
            "Requirement already satisfied: httpcore==1.* in /usr/local/lib/python3.10/dist-packages (from httpx<0.29.0,>=0.26.0->weaviate-client->-r requirements.txt (line 4)) (1.0.7)\n",
            "Requirement already satisfied: idna in /usr/local/lib/python3.10/dist-packages (from httpx<0.29.0,>=0.26.0->weaviate-client->-r requirements.txt (line 4)) (3.10)\n",
            "Requirement already satisfied: h11<0.15,>=0.13 in /usr/local/lib/python3.10/dist-packages (from httpcore==1.*->httpx<0.29.0,>=0.26.0->weaviate-client->-r requirements.txt (line 4)) (0.14.0)\n",
            "Collecting alembic>=1.5.0 (from optuna>=2.0.0->pykeen==1.11.1.dev0->-r requirements.txt (line 3))\n",
            "  Downloading alembic-1.14.0-py3-none-any.whl.metadata (7.4 kB)\n",
            "Collecting colorlog (from optuna>=2.0.0->pykeen==1.11.1.dev0->-r requirements.txt (line 3))\n",
            "  Downloading colorlog-6.9.0-py3-none-any.whl.metadata (10 kB)\n",
            "Requirement already satisfied: packaging>=20.0 in /usr/local/lib/python3.10/dist-packages (from optuna>=2.0.0->pykeen==1.11.1.dev0->-r requirements.txt (line 3)) (24.2)\n",
            "Requirement already satisfied: sqlalchemy>=1.4.2 in /usr/local/lib/python3.10/dist-packages (from optuna>=2.0.0->pykeen==1.11.1.dev0->-r requirements.txt (line 3)) (2.0.36)\n",
            "Requirement already satisfied: annotated-types>=0.6.0 in /usr/local/lib/python3.10/dist-packages (from pydantic<3.0.0,>=2.8.0->weaviate-client->-r requirements.txt (line 4)) (0.7.0)\n",
            "Requirement already satisfied: pydantic-core==2.27.1 in /usr/local/lib/python3.10/dist-packages (from pydantic<3.0.0,>=2.8.0->weaviate-client->-r requirements.txt (line 4)) (2.27.1)\n",
            "Requirement already satisfied: six>=1.5 in /usr/local/lib/python3.10/dist-packages (from python-dateutil>=2.8.2->pandas->-r requirements.txt (line 2)) (1.17.0)\n",
            "Requirement already satisfied: marshmallow<4.0.0,>=3.18.0 in /usr/local/lib/python3.10/dist-packages (from dataclasses-json->pykeen==1.11.1.dev0->-r requirements.txt (line 3)) (3.23.3)\n",
            "Requirement already satisfied: typing-inspect<1,>=0.4.0 in /usr/local/lib/python3.10/dist-packages (from dataclasses-json->pykeen==1.11.1.dev0->-r requirements.txt (line 3)) (0.9.0)\n",
            "Requirement already satisfied: MarkupSafe>=2.0 in /usr/local/lib/python3.10/dist-packages (from jinja2->torch->-r requirements.txt (line 1)) (3.0.2)\n",
            "Requirement already satisfied: charset-normalizer<4,>=2 in /usr/local/lib/python3.10/dist-packages (from requests->pykeen==1.11.1.dev0->-r requirements.txt (line 3)) (3.4.0)\n",
            "Requirement already satisfied: urllib3<3,>=1.21.1 in /usr/local/lib/python3.10/dist-packages (from requests->pykeen==1.11.1.dev0->-r requirements.txt (line 3)) (2.2.3)\n",
            "Requirement already satisfied: joblib>=1.2.0 in /usr/local/lib/python3.10/dist-packages (from scikit-learn->pykeen==1.11.1.dev0->-r requirements.txt (line 3)) (1.4.2)\n",
            "Requirement already satisfied: threadpoolctl>=3.1.0 in /usr/local/lib/python3.10/dist-packages (from scikit-learn->pykeen==1.11.1.dev0->-r requirements.txt (line 3)) (3.5.0)\n",
            "Collecting Mako (from alembic>=1.5.0->optuna>=2.0.0->pykeen==1.11.1.dev0->-r requirements.txt (line 3))\n",
            "  Downloading Mako-1.3.8-py3-none-any.whl.metadata (2.9 kB)\n",
            "Requirement already satisfied: greenlet!=0.4.17 in /usr/local/lib/python3.10/dist-packages (from sqlalchemy>=1.4.2->optuna>=2.0.0->pykeen==1.11.1.dev0->-r requirements.txt (line 3)) (3.1.1)\n",
            "Requirement already satisfied: mypy-extensions>=0.3.0 in /usr/local/lib/python3.10/dist-packages (from typing-inspect<1,>=0.4.0->dataclasses-json->pykeen==1.11.1.dev0->-r requirements.txt (line 3)) (1.0.0)\n",
            "Requirement already satisfied: sniffio>=1.1 in /usr/local/lib/python3.10/dist-packages (from anyio->httpx<0.29.0,>=0.26.0->weaviate-client->-r requirements.txt (line 4)) (1.3.1)\n",
            "Requirement already satisfied: exceptiongroup in /usr/local/lib/python3.10/dist-packages (from anyio->httpx<0.29.0,>=0.26.0->weaviate-client->-r requirements.txt (line 4)) (1.2.2)\n",
            "Requirement already satisfied: cffi>=1.12 in /usr/local/lib/python3.10/dist-packages (from cryptography->authlib<1.3.2,>=1.2.1->weaviate-client->-r requirements.txt (line 4)) (1.17.1)\n",
            "Requirement already satisfied: pycparser in /usr/local/lib/python3.10/dist-packages (from cffi>=1.12->cryptography->authlib<1.3.2,>=1.2.1->weaviate-client->-r requirements.txt (line 4)) (2.22)\n",
            "Downloading class_resolver-0.5.4-py3-none-any.whl (29 kB)\n",
            "Downloading optuna-4.1.0-py3-none-any.whl (364 kB)\n",
            "\u001b[2K   \u001b[90m━━━━━━━━━━━━━━━━━━━━━━━━━━━━━━━━━━━━━━━━\u001b[0m \u001b[32m364.4/364.4 kB\u001b[0m \u001b[31m9.3 MB/s\u001b[0m eta \u001b[36m0:00:00\u001b[0m\n",
            "\u001b[?25hDownloading pystow-0.6.1-py3-none-any.whl (38 kB)\n",
            "Downloading torch_max_mem-0.1.3-py3-none-any.whl (10 kB)\n",
            "Downloading torch_ppr-0.0.8-py3-none-any.whl (12 kB)\n",
            "Downloading click_default_group-1.2.4-py2.py3-none-any.whl (4.1 kB)\n",
            "Downloading docdata-0.0.4-py3-none-any.whl (9.1 kB)\n",
            "Downloading more_click-0.1.2-py3-none-any.whl (6.7 kB)\n",
            "Downloading alembic-1.14.0-py3-none-any.whl (233 kB)\n",
            "\u001b[2K   \u001b[90m━━━━━━━━━━━━━━━━━━━━━━━━━━━━━━━━━━━━━━━━\u001b[0m \u001b[32m233.5/233.5 kB\u001b[0m \u001b[31m17.5 MB/s\u001b[0m eta \u001b[36m0:00:00\u001b[0m\n",
            "\u001b[?25hDownloading colorlog-6.9.0-py3-none-any.whl (11 kB)\n",
            "Downloading Mako-1.3.8-py3-none-any.whl (78 kB)\n",
            "\u001b[2K   \u001b[90m━━━━━━━━━━━━━━━━━━━━━━━━━━━━━━━━━━━━━━━━\u001b[0m \u001b[32m78.6/78.6 kB\u001b[0m \u001b[31m5.9 MB/s\u001b[0m eta \u001b[36m0:00:00\u001b[0m\n",
            "\u001b[?25hBuilding wheels for collected packages: pykeen\n",
            "  Building wheel for pykeen (pyproject.toml) ... \u001b[?25l\u001b[?25hdone\n",
            "  Created wheel for pykeen: filename=pykeen-1.11.1.dev0-py3-none-any.whl size=718682 sha256=abf09cc8facb1ace0040da491201592aabf5c32e386c4c7df8d0cefae8519e37\n",
            "  Stored in directory: /tmp/pip-ephem-wheel-cache-3kwc_n1z/wheels/98/cc/ca/e65a97e466f82422e756ed7919123a4a59f39ee74adff01b50\n",
            "Successfully built pykeen\n",
            "Installing collected packages: more_click, Mako, docdata, colorlog, click_default_group, class_resolver, pystow, alembic, torch_max_mem, optuna, torch-ppr, pykeen\n",
            "Successfully installed Mako-1.3.8 alembic-1.14.0 class_resolver-0.5.4 click_default_group-1.2.4 colorlog-6.9.0 docdata-0.0.4 more_click-0.1.2 optuna-4.1.0 pykeen-1.11.1.dev0 pystow-0.6.1 torch-ppr-0.0.8 torch_max_mem-0.1.3\n"
          ]
        }
      ]
    },
    {
      "cell_type": "code",
      "source": [
        "%cd /content/drive/Shareddrives/Knowledge Graph/code/pipeline2/files"
      ],
      "metadata": {
        "id": "31HHBVG1Ie8m",
        "colab": {
          "base_uri": "https://localhost:8080/"
        },
        "outputId": "6f4dd575-de34-447c-e597-e880faafcd0c"
      },
      "execution_count": 15,
      "outputs": [
        {
          "output_type": "stream",
          "name": "stdout",
          "text": [
            "/content/drive/Shareddrives/Knowledge Graph/code/pipeline2/files\n"
          ]
        }
      ]
    },
    {
      "cell_type": "code",
      "source": [
        "import weaviate\n",
        "from weaviate.classes.init import Auth\n",
        "from weaviate.classes.config import Configure, Property, DataType\n",
        "import re\n",
        "import os\n",
        "import json\n",
        "\n",
        "# Funzione per estrarre l'ultima parte dell'URL\n",
        "def extract_name(url):\n",
        "    return re.split(r'[#/]', url)[-1]\n",
        "\n",
        "def vector_database():\n",
        "    weaviate_url = os.getenv(\"WEAVIATE_URL\")\n",
        "    weaviate_api_key = os.getenv(\"WEAVIATE_API_KEY\")\n",
        "\n",
        "    client = weaviate.connect_to_weaviate_cloud(\n",
        "        cluster_url=weaviate_url,\n",
        "        auth_credentials=Auth.api_key(weaviate_api_key),\n",
        "        headers={\n",
        "            \"X-OpenAI-Api-Key\": os.environ[\"OPENAI_API_TOKEN\"]\n",
        "        }\n",
        "    )\n",
        "\n",
        "    print(client.is_ready())\n",
        "\n",
        "    client.collections.create(\n",
        "        \"Triple\",\n",
        "        vectorizer_config=Configure.Vectorizer.text2vec_openai(),\n",
        "        properties=[\n",
        "            Property(name=\"triple\", data_type=DataType.TEXT),\n",
        "            Property(name=\"source\", data_type=DataType.TEXT)\n",
        "        ]\n",
        "    )\n",
        "\n",
        "    with open(os.getenv(\"output_path\"), \"r\") as file:\n",
        "        triples = json.load(file)\n",
        "\n",
        "    for index, triple in enumerate(triples[:100], start=1):\n",
        "        subject = extract_name(triple[0])\n",
        "        predicate = extract_name(triple[1])\n",
        "        object_ = extract_name(triple[2])\n",
        "        source = subject + '--' + predicate + '--' + object_\n",
        "\n",
        "        # Payload da caricare\n",
        "        data_object = {\n",
        "            \"triple\": source,\n",
        "            \"source\": source\n",
        "        }\n",
        "\n",
        "        collection = client.collections.get(\"Triple\")\n",
        "\n",
        "        with collection.batch.dynamic() as batch:\n",
        "            batch.add_object(properties=data_object)\n",
        "\n",
        "        # Stampa lo stato di avanzamento\n",
        "        print(f\"Caricata tripla {index} di {len(triples)}: {data_object}\")\n",
        "\n",
        "if __name__ == '__main__':\n",
        "    vector_database()\n"
      ],
      "metadata": {
        "colab": {
          "base_uri": "https://localhost:8080/"
        },
        "id": "KdgC16rlUfq7",
        "outputId": "95d25db7-5e37-41bd-f7eb-f696f1c2b638"
      },
      "execution_count": 37,
      "outputs": [
        {
          "output_type": "stream",
          "name": "stdout",
          "text": [
            "True\n",
            "Caricata tripla 1 di 31310: {'triple': 'Dyna-Q--label--Dyna-Q', 'source': 'Dyna-Q--label--Dyna-Q'}\n",
            "Caricata tripla 2 di 31310: {'triple': 'T1555.005--definition--Adversaries may acquire user credentials from third-party password managers.(Citation: ise Password Manager February 2019) Password managers are applications designed to store user credentials, normally in an encrypted database. Credentials are typically accessible after a user provides a master password that unlocks the database. After the database is unlocked, these credentials may be copied to memory. These databases can be stored as files on disk.(Citation: ise Password Manager February 2019)', 'source': 'T1555.005--definition--Adversaries may acquire user credentials from third-party password managers.(Citation: ise Password Manager February 2019) Password managers are applications designed to store user credentials, normally in an encrypted database. Credentials are typically accessible after a user provides a master password that unlocks the database. After the database is unlocked, these credentials may be copied to memory. These databases can be stored as files on disk.(Citation: ise Password Manager February 2019)'}\n",
            "Caricata tripla 3 di 31310: {'triple': 'T1009--deprecated--true', 'source': 'T1009--deprecated--true'}\n",
            "Caricata tripla 4 di 31310: {'triple': 'T1170--subClassOf--DefenseEvasionTechnique', 'source': 'T1170--subClassOf--DefenseEvasionTechnique'}\n",
            "Caricata tripla 5 di 31310: {'triple': 'T1500--deprecated--true', 'source': 'T1500--deprecated--true'}\n",
            "Caricata tripla 6 di 31310: {'triple': 'Software--subClassOf--n38e1d26c99874373b85210c7b3375474b1143', 'source': 'Software--subClassOf--n38e1d26c99874373b85210c7b3375474b1143'}\n",
            "Caricata tripla 7 di 31310: {'triple': 'n38e1d26c99874373b85210c7b3375474b1178--onProperty--member-of', 'source': 'n38e1d26c99874373b85210c7b3375474b1178--onProperty--member-of'}\n",
            "Caricata tripla 8 di 31310: {'triple': 'has-mediator--label--has-mediator', 'source': 'has-mediator--label--has-mediator'}\n",
            "Caricata tripla 9 di 31310: {'triple': 'Reference-AnalysisOfTheWindowsVistaSecurityModel_SymantecCorporation--label--Reference - Analysis of the Windows Vista Security Model - Symantec Corporation', 'source': 'Reference-AnalysisOfTheWindowsVistaSecurityModel_SymantecCorporation--label--Reference - Analysis of the Windows Vista Security Model - Symantec Corporation'}\n",
            "Caricata tripla 10 di 31310: {'triple': 'CWE-122--cwe-id--CWE-122', 'source': 'CWE-122--cwe-id--CWE-122'}\n",
            "Caricata tripla 11 di 31310: {'triple': 'WindowsNtCreateThread--subClassOf--OSAPICreateThread', 'source': 'WindowsNtCreateThread--subClassOf--OSAPICreateThread'}\n",
            "Caricata tripla 12 di 31310: {'triple': 'ParametricTests--type--Class', 'source': 'ParametricTests--type--Class'}\n",
            "Caricata tripla 13 di 31310: {'triple': 'T1568--label--Dynamic Resolution', 'source': 'T1568--label--Dynamic Resolution'}\n",
            "Caricata tripla 14 di 31310: {'triple': 'CCI-001199_v2022-04-05--definition--or integrity of organization-defined information at rest.', 'source': 'CCI-001199_v2022-04-05--definition--or integrity of organization-defined information at rest.'}\n",
            "Caricata tripla 15 di 31310: {'triple': 'T1566.004--type--Class', 'source': 'T1566.004--type--Class'}\n",
            "Caricata tripla 16 di 31310: {'triple': 'Reference-File-modifyingMalwareDetection_CrowdstrikeInc--type--PatentReference', 'source': 'Reference-File-modifyingMalwareDetection_CrowdstrikeInc--type--PatentReference'}\n",
            "Caricata tripla 17 di 31310: {'triple': 'PlatformHardening--enables--Harden', 'source': 'PlatformHardening--enables--Harden'}\n",
            "Caricata tripla 18 di 31310: {'triple': 'may-be-contained-by--subPropertyOf--may-be-associated-with', 'source': 'may-be-contained-by--subPropertyOf--may-be-associated-with'}\n",
            "Caricata tripla 19 di 31310: {'triple': 'CWE-35--type--Class', 'source': 'CWE-35--type--Class'}\n",
            "Caricata tripla 20 di 31310: {'triple': 'DomainTrustPolicy--d3fend-id--D3-DTP', 'source': 'DomainTrustPolicy--d3fend-id--D3-DTP'}\n",
            "Caricata tripla 21 di 31310: {'triple': 'WindowsSetThreadContext--subClassOf--n38e1d26c99874373b85210c7b3375474b529', 'source': 'WindowsSetThreadContext--subClassOf--n38e1d26c99874373b85210c7b3375474b529'}\n",
            "Caricata tripla 22 di 31310: {'triple': 'CCI-001085_v2022-04-05--published--2009-09-21T00:00:00', 'source': 'CCI-001085_v2022-04-05--published--2009-09-21T00:00:00'}\n",
            "Caricata tripla 23 di 31310: {'triple': 'SystemSoftware--label--System Software', 'source': 'SystemSoftware--label--System Software'}\n",
            "Caricata tripla 24 di 31310: {'triple': 'OfficeApplication--label--Office Application', 'source': 'OfficeApplication--label--Office Application'}\n",
            "Caricata tripla 25 di 31310: {'triple': 'T1115--reads--Clipboard', 'source': 'T1115--reads--Clipboard'}\n",
            "Caricata tripla 26 di 31310: {'triple': 'Authentication--type--NamedIndividual', 'source': 'Authentication--type--NamedIndividual'}\n",
            "Caricata tripla 27 di 31310: {'triple': 'CWE-796--type--Class', 'source': 'CWE-796--type--Class'}\n",
            "Caricata tripla 28 di 31310: {'triple': 'CWE-1077--type--Class', 'source': 'CWE-1077--type--Class'}\n",
            "Caricata tripla 29 di 31310: {'triple': 'ProcessTree--seeAlso--Child_process', 'source': 'ProcessTree--seeAlso--Child_process'}\n",
            "Caricata tripla 30 di 31310: {'triple': 'n38e1d26c99874373b85210c7b3375474b1052--type--Restriction', 'source': 'n38e1d26c99874373b85210c7b3375474b1052--type--Restriction'}\n",
            "Caricata tripla 31 di 31310: {'triple': 'n38e1d26c99874373b85210c7b3375474b338--type--Restriction', 'source': 'n38e1d26c99874373b85210c7b3375474b338--type--Restriction'}\n",
            "Caricata tripla 32 di 31310: {'triple': 'kb-organization--subPropertyOf--d3fend-kb-annotation-property', 'source': 'kb-organization--subPropertyOf--d3fend-kb-annotation-property'}\n",
            "Caricata tripla 33 di 31310: {'triple': 'DeveloperApplication--definition--An application used to develop computer software including applications used for software construction, analysis, testing, packaging, or management.', 'source': 'DeveloperApplication--definition--An application used to develop computer software including applications used for software construction, analysis, testing, packaging, or management.'}\n",
            "Caricata tripla 34 di 31310: {'triple': 'T1567.001--label--Exfiltration to Code Repository', 'source': 'T1567.001--label--Exfiltration to Code Repository'}\n",
            "Caricata tripla 35 di 31310: {'triple': 'LinuxMmap--isDefinedBy--mmap.2.html', 'source': 'LinuxMmap--isDefinedBy--mmap.2.html'}\n",
            "Caricata tripla 36 di 31310: {'triple': 'CWE-1384--label--Improper Handling of Physical or Environmental Conditions', 'source': 'CWE-1384--label--Improper Handling of Physical or Environmental Conditions'}\n",
            "Caricata tripla 37 di 31310: {'triple': 'CWE-572--subClassOf--CWE-821', 'source': 'CWE-572--subClassOf--CWE-821'}\n",
            "Caricata tripla 38 di 31310: {'triple': 'n38e1d26c99874373b85210c7b3375474b192--onProperty--modifies', 'source': 'n38e1d26c99874373b85210c7b3375474b192--onProperty--modifies'}\n",
            "Caricata tripla 39 di 31310: {'triple': 'AccessMediator--used-by--Agent', 'source': 'AccessMediator--used-by--Agent'}\n",
            "Caricata tripla 40 di 31310: {'triple': 'T1567.002--subClassOf--T1567', 'source': 'T1567.002--subClassOf--T1567'}\n",
            "Caricata tripla 41 di 31310: {'triple': 'T1083--attack-id--T1083', 'source': 'T1083--attack-id--T1083'}\n",
            "Caricata tripla 42 di 31310: {'triple': 'n38e1d26c99874373b85210c7b3375474b240--onProperty--adds', 'source': 'n38e1d26c99874373b85210c7b3375474b240--onProperty--adds'}\n",
            "Caricata tripla 43 di 31310: {'triple': 'n38e1d26c99874373b85210c7b3375474b784--type--Restriction', 'source': 'n38e1d26c99874373b85210c7b3375474b784--type--Restriction'}\n",
            "Caricata tripla 44 di 31310: {'triple': 'T1145--subClassOf--CredentialAccessTechnique', 'source': 'T1145--subClassOf--CredentialAccessTechnique'}\n",
            "Caricata tripla 45 di 31310: {'triple': 'CWE-835--cwe-id--CWE-835', 'source': 'CWE-835--cwe-id--CWE-835'}\n",
            "Caricata tripla 46 di 31310: {'triple': 'member-of--type--ObjectProperty', 'source': 'member-of--type--ObjectProperty'}\n",
            "Caricata tripla 47 di 31310: {'triple': 'DeepQ-learning--type--NamedIndividual', 'source': 'DeepQ-learning--type--NamedIndividual'}\n",
            "Caricata tripla 48 di 31310: {'triple': 'Reference-ContentExtractorAndAnalysisSystem_Bit9Inc,CarbonBlackInc--type--PatentReference', 'source': 'Reference-ContentExtractorAndAnalysisSystem_Bit9Inc,CarbonBlackInc--type--PatentReference'}\n",
            "Caricata tripla 49 di 31310: {'triple': 'n38e1d26c99874373b85210c7b3375474b1182--rest--n38e1d26c99874373b85210c7b3375474b1183', 'source': 'n38e1d26c99874373b85210c7b3375474b1182--rest--n38e1d26c99874373b85210c7b3375474b1183'}\n",
            "Caricata tripla 50 di 31310: {'triple': 'AsymmetricFeature-basedTransferLearning--definition--Homogeneous (where the metrics are the same for both source and target) asymmetric transformation mapping transforms the source feature space to align with that of the target or the target to that of the source. This, in effect, bridges the feature space gap and reduces the problem into a homogeneous transfer problem when further distribution differences need to be corrected.', 'source': 'AsymmetricFeature-basedTransferLearning--definition--Homogeneous (where the metrics are the same for both source and target) asymmetric transformation mapping transforms the source feature space to align with that of the target or the target to that of the source. This, in effect, bridges the feature space gap and reduces the problem into a homogeneous transfer problem when further distribution differences need to be corrected.'}\n",
            "Caricata tripla 51 di 31310: {'triple': 'Reference-TamperProofMutatingSoftware_ARXANTECHNOLOGIESInc--kb-organization--ARXAN TECHNOLOGIES Inc', 'source': 'Reference-TamperProofMutatingSoftware_ARXANTECHNOLOGIESInc--kb-organization--ARXAN TECHNOLOGIES Inc'}\n",
            "Caricata tripla 52 di 31310: {'triple': 'CWE-617--cwe-id--CWE-617', 'source': 'CWE-617--cwe-id--CWE-617'}\n",
            "Caricata tripla 53 di 31310: {'triple': 'MemoryAddress--type--NamedIndividual', 'source': 'MemoryAddress--type--NamedIndividual'}\n",
            "Caricata tripla 54 di 31310: {'triple': 'CCI-003014_v2022-04-05--type--CCIControl', 'source': 'CCI-003014_v2022-04-05--type--CCIControl'}\n",
            "Caricata tripla 55 di 31310: {'triple': 'T1499.003--label--Application Exhaustion Flood', 'source': 'T1499.003--label--Application Exhaustion Flood'}\n",
            "Caricata tripla 56 di 31310: {'triple': 'n38e1d26c99874373b85210c7b3375474b367--type--Restriction', 'source': 'n38e1d26c99874373b85210c7b3375474b367--type--Restriction'}\n",
            "Caricata tripla 57 di 31310: {'triple': 'T1098.005--attack-id--T1098.005', 'source': 'T1098.005--attack-id--T1098.005'}\n",
            "Caricata tripla 58 di 31310: {'triple': 'T1096--deprecated--true', 'source': 'T1096--deprecated--true'}\n",
            "Caricata tripla 59 di 31310: {'triple': 'InternetNetworkTraffic--seeAlso--Internetworking', 'source': 'InternetNetworkTraffic--seeAlso--Internetworking'}\n",
            "Caricata tripla 60 di 31310: {'triple': 'n38e1d26c99874373b85210c7b3375474b516--type--Restriction', 'source': 'n38e1d26c99874373b85210c7b3375474b516--type--Restriction'}\n",
            "Caricata tripla 61 di 31310: {'triple': 'T1027.004--subClassOf--T1027', 'source': 'T1027.004--subClassOf--T1027'}\n",
            "Caricata tripla 62 di 31310: {'triple': 'NIST_SP_800-53_R5_AC-4_27--exactly--OutboundTrafficFiltering', 'source': 'NIST_SP_800-53_R5_AC-4_27--exactly--OutboundTrafficFiltering'}\n",
            "Caricata tripla 63 di 31310: {'triple': 'OperatingSystemProcess--definition--An operating system process, or system process, is a process running to perform operating system functions.', 'source': 'OperatingSystemProcess--definition--An operating system process, or system process, is a process running to perform operating system functions.'}\n",
            "Caricata tripla 64 di 31310: {'triple': 'filters--label--filters', 'source': 'filters--label--filters'}\n",
            "Caricata tripla 65 di 31310: {'triple': 'HardLink--subClassOf--FileSystemLink', 'source': 'HardLink--subClassOf--FileSystemLink'}\n",
            "Caricata tripla 66 di 31310: {'triple': 'may-be-detected-by--subPropertyOf--attack-may-be-countered-by', 'source': 'may-be-detected-by--subPropertyOf--attack-may-be-countered-by'}\n",
            "Caricata tripla 67 di 31310: {'triple': 'T1199--subClassOf--InitialAccessTechnique', 'source': 'T1199--subClassOf--InitialAccessTechnique'}\n",
            "Caricata tripla 68 di 31310: {'triple': 'T1567--type--Class', 'source': 'T1567--type--Class'}\n",
            "Caricata tripla 69 di 31310: {'triple': \"T1653--definition--Adversaries may impair a system's ability to hibernate, reboot, or shut down in order to extend access to infected machines. When a computer enters a dormant state, some or all software and hardware may cease to operate which can disrupt malicious activity.(Citation: Sleep, shut down, hibernate)\", 'source': \"T1653--definition--Adversaries may impair a system's ability to hibernate, reboot, or shut down in order to extend access to infected machines. When a computer enters a dormant state, some or all software and hardware may cease to operate which can disrupt malicious activity.(Citation: Sleep, shut down, hibernate)\"}\n",
            "Caricata tripla 70 di 31310: {'triple': 'n38e1d26c99874373b85210c7b3375474b180--onProperty--accesses', 'source': 'n38e1d26c99874373b85210c7b3375474b180--onProperty--accesses'}\n",
            "Caricata tripla 71 di 31310: {'triple': 'CCI-000030_v2022-04-05--member-of--CCICatalog_v2022-04-05', 'source': 'CCI-000030_v2022-04-05--member-of--CCICatalog_v2022-04-05'}\n",
            "Caricata tripla 72 di 31310: {'triple': 'CWE-820--type--Class', 'source': 'CWE-820--type--Class'}\n",
            "Caricata tripla 73 di 31310: {'triple': 'T1055.005--invokes--SystemCall', 'source': 'T1055.005--invokes--SystemCall'}\n",
            "Caricata tripla 74 di 31310: {'triple': 'CCI-000417_v2022-04-05--member-of--CCICatalog_v2022-04-05', 'source': 'CCI-000417_v2022-04-05--member-of--CCICatalog_v2022-04-05'}\n",
            "Caricata tripla 75 di 31310: {'triple': 'kb-author--domain--Reference', 'source': 'kb-author--domain--Reference'}\n",
            "Caricata tripla 76 di 31310: {'triple': 'PacketLog--definition--A log of all the network packet data captured from a network by a network sensor (i.e., packet analyzer),', 'source': 'PacketLog--definition--A log of all the network packet data captured from a network by a network sensor (i.e., packet analyzer),'}\n",
            "Caricata tripla 77 di 31310: {'triple': 'Reference-HowDoesAntivirusQuarantineWork-SafetyDetectives--has-link--', 'source': 'Reference-HowDoesAntivirusQuarantineWork-SafetyDetectives--has-link--'}\n",
            "Caricata tripla 78 di 31310: {'triple': 'Email--type--NamedIndividual', 'source': 'Email--type--NamedIndividual'}\n",
            "Caricata tripla 79 di 31310: {'triple': 'CCI-002289_v2022-04-05--label--CCI-002289', 'source': 'CCI-002289_v2022-04-05--label--CCI-002289'}\n",
            "Caricata tripla 80 di 31310: {'triple': 'PrimaryStorage--type--NamedIndividual', 'source': 'PrimaryStorage--type--NamedIndividual'}\n",
            "Caricata tripla 81 di 31310: {'triple': 'DatabaseQuery--type--Class', 'source': 'DatabaseQuery--type--Class'}\n",
            "Caricata tripla 82 di 31310: {'triple': 'NIST_SP_800-53_R5_AC-4_27--member-of--NIST_SP_800-53_R5', 'source': 'NIST_SP_800-53_R5_AC-4_27--member-of--NIST_SP_800-53_R5'}\n",
            "Caricata tripla 83 di 31310: {'triple': 'IdentifierActivityAnalysis--subClassOf--n38e1d26c99874373b85210c7b3375474b649', 'source': 'IdentifierActivityAnalysis--subClassOf--n38e1d26c99874373b85210c7b3375474b649'}\n",
            "Caricata tripla 84 di 31310: {'triple': 'CCI-002207_v2022-04-05--member-of--CCICatalog_v2022-04-05', 'source': 'CCI-002207_v2022-04-05--member-of--CCICatalog_v2022-04-05'}\n",
            "Caricata tripla 85 di 31310: {'triple': 'ProcessImage--subClassOf--n38e1d26c99874373b85210c7b3375474b888', 'source': 'ProcessImage--subClassOf--n38e1d26c99874373b85210c7b3375474b888'}\n",
            "Caricata tripla 86 di 31310: {'triple': 'CWE-695--subClassOf--CWE-573', 'source': 'CWE-695--subClassOf--CWE-573'}\n",
            "Caricata tripla 87 di 31310: {'triple': 'broader--subPropertyOf--semantic-relation', 'source': 'broader--subPropertyOf--semantic-relation'}\n",
            "Caricata tripla 88 di 31310: {'triple': 'CWE-337--cwe-id--CWE-337', 'source': 'CWE-337--cwe-id--CWE-337'}\n",
            "Caricata tripla 89 di 31310: {'triple': 'ShortcutFile--subClassOf--File', 'source': 'ShortcutFile--subClassOf--File'}\n",
            "Caricata tripla 90 di 31310: {'triple': 'n38e1d26c99874373b85210c7b3375474b993--onProperty--analyzes', 'source': 'n38e1d26c99874373b85210c7b3375474b993--onProperty--analyzes'}\n",
            "Caricata tripla 91 di 31310: {'triple': 'Pix2Pix--type--NamedIndividual', 'source': 'Pix2Pix--type--NamedIndividual'}\n",
            "Caricata tripla 92 di 31310: {'triple': 'n38e1d26c99874373b85210c7b3375474b122--onProperty--produces', 'source': 'n38e1d26c99874373b85210c7b3375474b122--onProperty--produces'}\n",
            "Caricata tripla 93 di 31310: {'triple': 'RestoreObject--definition--Restoring an object for an entity to access. This is the broadest class for object restoral.', 'source': 'RestoreObject--definition--Restoring an object for an entity to access. This is the broadest class for object restoral.'}\n",
            "Caricata tripla 94 di 31310: {'triple': 'n38e1d26c99874373b85210c7b3375474b355--someValuesFrom--ExecutableScript', 'source': 'n38e1d26c99874373b85210c7b3375474b355--someValuesFrom--ExecutableScript'}\n",
            "Caricata tripla 95 di 31310: {'triple': 'CCI-001133_v2022-04-05--member-of--CCICatalog_v2022-04-05', 'source': 'CCI-001133_v2022-04-05--member-of--CCICatalog_v2022-04-05'}\n",
            "Caricata tripla 96 di 31310: {'triple': 'LocalResource--subClassOf--Resource', 'source': 'LocalResource--subClassOf--Resource'}\n",
            "Caricata tripla 97 di 31310: {'triple': 'CWE-1042--type--Class', 'source': 'CWE-1042--type--Class'}\n",
            "Caricata tripla 98 di 31310: {'triple': 'UnsupervisedPreprocessing--definition--When performing unsupervised learning, the machine is presented with unlabeled data. (Unlabeled data has no target.) Unsupervised learning algorithms seek to discover intrinsic patterns that underlie the data, such as a clustering parameter or a redundant parameter (dimension) that can be reduced.', 'source': 'UnsupervisedPreprocessing--definition--When performing unsupervised learning, the machine is presented with unlabeled data. (Unlabeled data has no target.) Unsupervised learning algorithms seek to discover intrinsic patterns that underlie the data, such as a clustering parameter or a redundant parameter (dimension) that can be reduced.'}\n",
            "Caricata tripla 99 di 31310: {'triple': 'T1154--seeAlso--T1546.005', 'source': 'T1154--seeAlso--T1546.005'}\n",
            "Caricata tripla 100 di 31310: {'triple': 'process-parent--subPropertyOf--process-ancestor', 'source': 'process-parent--subPropertyOf--process-ancestor'}\n"
          ]
        }
      ]
    },
    {
      "cell_type": "markdown",
      "source": [
        "## RAG"
      ],
      "metadata": {
        "id": "VvCNVHDaKacM"
      }
    },
    {
      "cell_type": "code",
      "source": [
        "%cd /content/drive/Shareddrives/Knowledge Graph/code/pipeline2/2.rag\n",
        "!pip install -r requirements.txt"
      ],
      "metadata": {
        "id": "tJsOYOI9KWZ8",
        "colab": {
          "base_uri": "https://localhost:8080/"
        },
        "outputId": "1d6cacea-b6b9-4e2b-812f-8383f1a71a44"
      },
      "execution_count": 4,
      "outputs": [
        {
          "output_type": "stream",
          "name": "stdout",
          "text": [
            "/content/drive/Shareddrives/Knowledge Graph/code/pipeline2/2.rag\n",
            "Requirement already satisfied: langchain in /usr/local/lib/python3.10/dist-packages (from -r requirements.txt (line 1)) (0.3.12)\n",
            "Collecting langchain-community (from -r requirements.txt (line 2))\n",
            "  Downloading langchain_community-0.3.14-py3-none-any.whl.metadata (2.9 kB)\n",
            "Collecting weaviate-client (from -r requirements.txt (line 3))\n",
            "  Downloading weaviate_client-4.10.2-py3-none-any.whl.metadata (3.6 kB)\n",
            "Collecting langchain-openai (from -r requirements.txt (line 4))\n",
            "  Downloading langchain_openai-0.2.14-py3-none-any.whl.metadata (2.7 kB)\n",
            "Collecting langchain-weaviate (from -r requirements.txt (line 5))\n",
            "  Downloading langchain_weaviate-0.0.3-py3-none-any.whl.metadata (2.7 kB)\n",
            "Requirement already satisfied: PyYAML>=5.3 in /usr/local/lib/python3.10/dist-packages (from langchain->-r requirements.txt (line 1)) (6.0.2)\n",
            "Requirement already satisfied: SQLAlchemy<3,>=1.4 in /usr/local/lib/python3.10/dist-packages (from langchain->-r requirements.txt (line 1)) (2.0.36)\n",
            "Requirement already satisfied: aiohttp<4.0.0,>=3.8.3 in /usr/local/lib/python3.10/dist-packages (from langchain->-r requirements.txt (line 1)) (3.11.10)\n",
            "Requirement already satisfied: async-timeout<5.0.0,>=4.0.0 in /usr/local/lib/python3.10/dist-packages (from langchain->-r requirements.txt (line 1)) (4.0.3)\n",
            "Requirement already satisfied: langchain-core<0.4.0,>=0.3.25 in /usr/local/lib/python3.10/dist-packages (from langchain->-r requirements.txt (line 1)) (0.3.25)\n",
            "Requirement already satisfied: langchain-text-splitters<0.4.0,>=0.3.3 in /usr/local/lib/python3.10/dist-packages (from langchain->-r requirements.txt (line 1)) (0.3.3)\n",
            "Requirement already satisfied: langsmith<0.3,>=0.1.17 in /usr/local/lib/python3.10/dist-packages (from langchain->-r requirements.txt (line 1)) (0.2.3)\n",
            "Requirement already satisfied: numpy<2,>=1.22.4 in /usr/local/lib/python3.10/dist-packages (from langchain->-r requirements.txt (line 1)) (1.26.4)\n",
            "Requirement already satisfied: pydantic<3.0.0,>=2.7.4 in /usr/local/lib/python3.10/dist-packages (from langchain->-r requirements.txt (line 1)) (2.10.3)\n",
            "Requirement already satisfied: requests<3,>=2 in /usr/local/lib/python3.10/dist-packages (from langchain->-r requirements.txt (line 1)) (2.32.3)\n",
            "Requirement already satisfied: tenacity!=8.4.0,<10,>=8.1.0 in /usr/local/lib/python3.10/dist-packages (from langchain->-r requirements.txt (line 1)) (9.0.0)\n",
            "Collecting dataclasses-json<0.7,>=0.5.7 (from langchain-community->-r requirements.txt (line 2))\n",
            "  Downloading dataclasses_json-0.6.7-py3-none-any.whl.metadata (25 kB)\n",
            "Collecting httpx-sse<0.5.0,>=0.4.0 (from langchain-community->-r requirements.txt (line 2))\n",
            "  Downloading httpx_sse-0.4.0-py3-none-any.whl.metadata (9.0 kB)\n",
            "Collecting langchain (from -r requirements.txt (line 1))\n",
            "  Downloading langchain-0.3.14-py3-none-any.whl.metadata (7.1 kB)\n",
            "Collecting langchain-core<0.4.0,>=0.3.25 (from langchain->-r requirements.txt (line 1))\n",
            "  Downloading langchain_core-0.3.29-py3-none-any.whl.metadata (6.3 kB)\n",
            "Collecting pydantic-settings<3.0.0,>=2.4.0 (from langchain-community->-r requirements.txt (line 2))\n",
            "  Downloading pydantic_settings-2.7.1-py3-none-any.whl.metadata (3.5 kB)\n",
            "Requirement already satisfied: httpx<0.29.0,>=0.26.0 in /usr/local/lib/python3.10/dist-packages (from weaviate-client->-r requirements.txt (line 3)) (0.28.1)\n",
            "Collecting validators==0.34.0 (from weaviate-client->-r requirements.txt (line 3))\n",
            "  Downloading validators-0.34.0-py3-none-any.whl.metadata (3.8 kB)\n",
            "Collecting authlib<1.3.2,>=1.2.1 (from weaviate-client->-r requirements.txt (line 3))\n",
            "  Downloading Authlib-1.3.1-py2.py3-none-any.whl.metadata (3.8 kB)\n",
            "Requirement already satisfied: grpcio<2.0.0,>=1.66.2 in /usr/local/lib/python3.10/dist-packages (from weaviate-client->-r requirements.txt (line 3)) (1.68.1)\n",
            "Collecting grpcio-tools<2.0.0,>=1.66.2 (from weaviate-client->-r requirements.txt (line 3))\n",
            "  Downloading grpcio_tools-1.69.0-cp310-cp310-manylinux_2_17_x86_64.manylinux2014_x86_64.whl.metadata (5.3 kB)\n",
            "Collecting grpcio-health-checking<2.0.0,>=1.66.2 (from weaviate-client->-r requirements.txt (line 3))\n",
            "  Downloading grpcio_health_checking-1.69.0-py3-none-any.whl.metadata (1.1 kB)\n",
            "Collecting openai<2.0.0,>=1.58.1 (from langchain-openai->-r requirements.txt (line 4))\n",
            "  Downloading openai-1.59.3-py3-none-any.whl.metadata (27 kB)\n",
            "Collecting tiktoken<1,>=0.7 (from langchain-openai->-r requirements.txt (line 4))\n",
            "  Downloading tiktoken-0.8.0-cp310-cp310-manylinux_2_17_x86_64.manylinux2014_x86_64.whl.metadata (6.6 kB)\n",
            "Collecting simsimd<5.0.0,>=3.6.1 (from langchain-weaviate->-r requirements.txt (line 5))\n",
            "  Downloading simsimd-4.4.0-cp310-cp310-manylinux_2_28_x86_64.whl.metadata (31 kB)\n",
            "Requirement already satisfied: aiohappyeyeballs>=2.3.0 in /usr/local/lib/python3.10/dist-packages (from aiohttp<4.0.0,>=3.8.3->langchain->-r requirements.txt (line 1)) (2.4.4)\n",
            "Requirement already satisfied: aiosignal>=1.1.2 in /usr/local/lib/python3.10/dist-packages (from aiohttp<4.0.0,>=3.8.3->langchain->-r requirements.txt (line 1)) (1.3.2)\n",
            "Requirement already satisfied: attrs>=17.3.0 in /usr/local/lib/python3.10/dist-packages (from aiohttp<4.0.0,>=3.8.3->langchain->-r requirements.txt (line 1)) (24.3.0)\n",
            "Requirement already satisfied: frozenlist>=1.1.1 in /usr/local/lib/python3.10/dist-packages (from aiohttp<4.0.0,>=3.8.3->langchain->-r requirements.txt (line 1)) (1.5.0)\n",
            "Requirement already satisfied: multidict<7.0,>=4.5 in /usr/local/lib/python3.10/dist-packages (from aiohttp<4.0.0,>=3.8.3->langchain->-r requirements.txt (line 1)) (6.1.0)\n",
            "Requirement already satisfied: propcache>=0.2.0 in /usr/local/lib/python3.10/dist-packages (from aiohttp<4.0.0,>=3.8.3->langchain->-r requirements.txt (line 1)) (0.2.1)\n",
            "Requirement already satisfied: yarl<2.0,>=1.17.0 in /usr/local/lib/python3.10/dist-packages (from aiohttp<4.0.0,>=3.8.3->langchain->-r requirements.txt (line 1)) (1.18.3)\n",
            "Requirement already satisfied: cryptography in /usr/local/lib/python3.10/dist-packages (from authlib<1.3.2,>=1.2.1->weaviate-client->-r requirements.txt (line 3)) (43.0.3)\n",
            "Collecting marshmallow<4.0.0,>=3.18.0 (from dataclasses-json<0.7,>=0.5.7->langchain-community->-r requirements.txt (line 2))\n",
            "  Downloading marshmallow-3.23.3-py3-none-any.whl.metadata (7.1 kB)\n",
            "Collecting typing-inspect<1,>=0.4.0 (from dataclasses-json<0.7,>=0.5.7->langchain-community->-r requirements.txt (line 2))\n",
            "  Downloading typing_inspect-0.9.0-py3-none-any.whl.metadata (1.5 kB)\n",
            "Collecting protobuf<6.0dev,>=5.26.1 (from grpcio-health-checking<2.0.0,>=1.66.2->weaviate-client->-r requirements.txt (line 3))\n",
            "  Downloading protobuf-5.29.2-cp38-abi3-manylinux2014_x86_64.whl.metadata (592 bytes)\n",
            "Collecting grpcio<2.0.0,>=1.66.2 (from weaviate-client->-r requirements.txt (line 3))\n",
            "  Downloading grpcio-1.69.0-cp310-cp310-manylinux_2_17_x86_64.manylinux2014_x86_64.whl.metadata (3.9 kB)\n",
            "Requirement already satisfied: setuptools in /usr/local/lib/python3.10/dist-packages (from grpcio-tools<2.0.0,>=1.66.2->weaviate-client->-r requirements.txt (line 3)) (75.1.0)\n",
            "Requirement already satisfied: anyio in /usr/local/lib/python3.10/dist-packages (from httpx<0.29.0,>=0.26.0->weaviate-client->-r requirements.txt (line 3)) (3.7.1)\n",
            "Requirement already satisfied: certifi in /usr/local/lib/python3.10/dist-packages (from httpx<0.29.0,>=0.26.0->weaviate-client->-r requirements.txt (line 3)) (2024.12.14)\n",
            "Requirement already satisfied: httpcore==1.* in /usr/local/lib/python3.10/dist-packages (from httpx<0.29.0,>=0.26.0->weaviate-client->-r requirements.txt (line 3)) (1.0.7)\n",
            "Requirement already satisfied: idna in /usr/local/lib/python3.10/dist-packages (from httpx<0.29.0,>=0.26.0->weaviate-client->-r requirements.txt (line 3)) (3.10)\n",
            "Requirement already satisfied: h11<0.15,>=0.13 in /usr/local/lib/python3.10/dist-packages (from httpcore==1.*->httpx<0.29.0,>=0.26.0->weaviate-client->-r requirements.txt (line 3)) (0.14.0)\n",
            "Requirement already satisfied: jsonpatch<2.0,>=1.33 in /usr/local/lib/python3.10/dist-packages (from langchain-core<0.4.0,>=0.3.25->langchain->-r requirements.txt (line 1)) (1.33)\n",
            "Requirement already satisfied: packaging<25,>=23.2 in /usr/local/lib/python3.10/dist-packages (from langchain-core<0.4.0,>=0.3.25->langchain->-r requirements.txt (line 1)) (24.2)\n",
            "Requirement already satisfied: typing-extensions>=4.7 in /usr/local/lib/python3.10/dist-packages (from langchain-core<0.4.0,>=0.3.25->langchain->-r requirements.txt (line 1)) (4.12.2)\n",
            "Requirement already satisfied: orjson<4.0.0,>=3.9.14 in /usr/local/lib/python3.10/dist-packages (from langsmith<0.3,>=0.1.17->langchain->-r requirements.txt (line 1)) (3.10.12)\n",
            "Requirement already satisfied: requests-toolbelt<2.0.0,>=1.0.0 in /usr/local/lib/python3.10/dist-packages (from langsmith<0.3,>=0.1.17->langchain->-r requirements.txt (line 1)) (1.0.0)\n",
            "Requirement already satisfied: distro<2,>=1.7.0 in /usr/local/lib/python3.10/dist-packages (from openai<2.0.0,>=1.58.1->langchain-openai->-r requirements.txt (line 4)) (1.9.0)\n",
            "Requirement already satisfied: jiter<1,>=0.4.0 in /usr/local/lib/python3.10/dist-packages (from openai<2.0.0,>=1.58.1->langchain-openai->-r requirements.txt (line 4)) (0.8.2)\n",
            "Requirement already satisfied: sniffio in /usr/local/lib/python3.10/dist-packages (from openai<2.0.0,>=1.58.1->langchain-openai->-r requirements.txt (line 4)) (1.3.1)\n",
            "Requirement already satisfied: tqdm>4 in /usr/local/lib/python3.10/dist-packages (from openai<2.0.0,>=1.58.1->langchain-openai->-r requirements.txt (line 4)) (4.67.1)\n",
            "Requirement already satisfied: annotated-types>=0.6.0 in /usr/local/lib/python3.10/dist-packages (from pydantic<3.0.0,>=2.7.4->langchain->-r requirements.txt (line 1)) (0.7.0)\n",
            "Requirement already satisfied: pydantic-core==2.27.1 in /usr/local/lib/python3.10/dist-packages (from pydantic<3.0.0,>=2.7.4->langchain->-r requirements.txt (line 1)) (2.27.1)\n",
            "Requirement already satisfied: python-dotenv>=0.21.0 in /usr/local/lib/python3.10/dist-packages (from pydantic-settings<3.0.0,>=2.4.0->langchain-community->-r requirements.txt (line 2)) (1.0.1)\n",
            "Requirement already satisfied: charset-normalizer<4,>=2 in /usr/local/lib/python3.10/dist-packages (from requests<3,>=2->langchain->-r requirements.txt (line 1)) (3.4.0)\n",
            "Requirement already satisfied: urllib3<3,>=1.21.1 in /usr/local/lib/python3.10/dist-packages (from requests<3,>=2->langchain->-r requirements.txt (line 1)) (2.2.3)\n",
            "Requirement already satisfied: greenlet!=0.4.17 in /usr/local/lib/python3.10/dist-packages (from SQLAlchemy<3,>=1.4->langchain->-r requirements.txt (line 1)) (3.1.1)\n",
            "Requirement already satisfied: regex>=2022.1.18 in /usr/local/lib/python3.10/dist-packages (from tiktoken<1,>=0.7->langchain-openai->-r requirements.txt (line 4)) (2024.11.6)\n",
            "Requirement already satisfied: exceptiongroup in /usr/local/lib/python3.10/dist-packages (from anyio->httpx<0.29.0,>=0.26.0->weaviate-client->-r requirements.txt (line 3)) (1.2.2)\n",
            "Requirement already satisfied: jsonpointer>=1.9 in /usr/local/lib/python3.10/dist-packages (from jsonpatch<2.0,>=1.33->langchain-core<0.4.0,>=0.3.25->langchain->-r requirements.txt (line 1)) (3.0.0)\n",
            "Collecting mypy-extensions>=0.3.0 (from typing-inspect<1,>=0.4.0->dataclasses-json<0.7,>=0.5.7->langchain-community->-r requirements.txt (line 2))\n",
            "  Downloading mypy_extensions-1.0.0-py3-none-any.whl.metadata (1.1 kB)\n",
            "Requirement already satisfied: cffi>=1.12 in /usr/local/lib/python3.10/dist-packages (from cryptography->authlib<1.3.2,>=1.2.1->weaviate-client->-r requirements.txt (line 3)) (1.17.1)\n",
            "Requirement already satisfied: pycparser in /usr/local/lib/python3.10/dist-packages (from cffi>=1.12->cryptography->authlib<1.3.2,>=1.2.1->weaviate-client->-r requirements.txt (line 3)) (2.22)\n",
            "Downloading langchain_community-0.3.14-py3-none-any.whl (2.5 MB)\n",
            "\u001b[2K   \u001b[90m━━━━━━━━━━━━━━━━━━━━━━━━━━━━━━━━━━━━━━━━\u001b[0m \u001b[32m2.5/2.5 MB\u001b[0m \u001b[31m30.9 MB/s\u001b[0m eta \u001b[36m0:00:00\u001b[0m\n",
            "\u001b[?25hDownloading langchain-0.3.14-py3-none-any.whl (1.0 MB)\n",
            "\u001b[2K   \u001b[90m━━━━━━━━━━━━━━━━━━━━━━━━━━━━━━━━━━━━━━━━\u001b[0m \u001b[32m1.0/1.0 MB\u001b[0m \u001b[31m44.2 MB/s\u001b[0m eta \u001b[36m0:00:00\u001b[0m\n",
            "\u001b[?25hDownloading weaviate_client-4.10.2-py3-none-any.whl (325 kB)\n",
            "\u001b[2K   \u001b[90m━━━━━━━━━━━━━━━━━━━━━━━━━━━━━━━━━━━━━━━━\u001b[0m \u001b[32m325.4/325.4 kB\u001b[0m \u001b[31m22.0 MB/s\u001b[0m eta \u001b[36m0:00:00\u001b[0m\n",
            "\u001b[?25hDownloading validators-0.34.0-py3-none-any.whl (43 kB)\n",
            "\u001b[2K   \u001b[90m━━━━━━━━━━━━━━━━━━━━━━━━━━━━━━━━━━━━━━━━\u001b[0m \u001b[32m43.5/43.5 kB\u001b[0m \u001b[31m3.1 MB/s\u001b[0m eta \u001b[36m0:00:00\u001b[0m\n",
            "\u001b[?25hDownloading langchain_openai-0.2.14-py3-none-any.whl (50 kB)\n",
            "\u001b[2K   \u001b[90m━━━━━━━━━━━━━━━━━━━━━━━━━━━━━━━━━━━━━━━━\u001b[0m \u001b[32m50.9/50.9 kB\u001b[0m \u001b[31m3.6 MB/s\u001b[0m eta \u001b[36m0:00:00\u001b[0m\n",
            "\u001b[?25hDownloading langchain_weaviate-0.0.3-py3-none-any.whl (10 kB)\n",
            "Downloading Authlib-1.3.1-py2.py3-none-any.whl (223 kB)\n",
            "\u001b[2K   \u001b[90m━━━━━━━━━━━━━━━━━━━━━━━━━━━━━━━━━━━━━━━━\u001b[0m \u001b[32m223.8/223.8 kB\u001b[0m \u001b[31m14.8 MB/s\u001b[0m eta \u001b[36m0:00:00\u001b[0m\n",
            "\u001b[?25hDownloading dataclasses_json-0.6.7-py3-none-any.whl (28 kB)\n",
            "Downloading grpcio_health_checking-1.69.0-py3-none-any.whl (18 kB)\n",
            "Downloading grpcio-1.69.0-cp310-cp310-manylinux_2_17_x86_64.manylinux2014_x86_64.whl (6.0 MB)\n",
            "\u001b[2K   \u001b[90m━━━━━━━━━━━━━━━━━━━━━━━━━━━━━━━━━━━━━━━━\u001b[0m \u001b[32m6.0/6.0 MB\u001b[0m \u001b[31m74.5 MB/s\u001b[0m eta \u001b[36m0:00:00\u001b[0m\n",
            "\u001b[?25hDownloading grpcio_tools-1.69.0-cp310-cp310-manylinux_2_17_x86_64.manylinux2014_x86_64.whl (2.5 MB)\n",
            "\u001b[2K   \u001b[90m━━━━━━━━━━━━━━━━━━━━━━━━━━━━━━━━━━━━━━━━\u001b[0m \u001b[32m2.5/2.5 MB\u001b[0m \u001b[31m63.5 MB/s\u001b[0m eta \u001b[36m0:00:00\u001b[0m\n",
            "\u001b[?25hDownloading httpx_sse-0.4.0-py3-none-any.whl (7.8 kB)\n",
            "Downloading langchain_core-0.3.29-py3-none-any.whl (411 kB)\n",
            "\u001b[2K   \u001b[90m━━━━━━━━━━━━━━━━━━━━━━━━━━━━━━━━━━━━━━━━\u001b[0m \u001b[32m411.6/411.6 kB\u001b[0m \u001b[31m23.4 MB/s\u001b[0m eta \u001b[36m0:00:00\u001b[0m\n",
            "\u001b[?25hDownloading openai-1.59.3-py3-none-any.whl (454 kB)\n",
            "\u001b[2K   \u001b[90m━━━━━━━━━━━━━━━━━━━━━━━━━━━━━━━━━━━━━━━━\u001b[0m \u001b[32m454.8/454.8 kB\u001b[0m \u001b[31m28.4 MB/s\u001b[0m eta \u001b[36m0:00:00\u001b[0m\n",
            "\u001b[?25hDownloading pydantic_settings-2.7.1-py3-none-any.whl (29 kB)\n",
            "Downloading simsimd-4.4.0-cp310-cp310-manylinux_2_28_x86_64.whl (519 kB)\n",
            "\u001b[2K   \u001b[90m━━━━━━━━━━━━━━━━━━━━━━━━━━━━━━━━━━━━━━━━\u001b[0m \u001b[32m519.1/519.1 kB\u001b[0m \u001b[31m29.7 MB/s\u001b[0m eta \u001b[36m0:00:00\u001b[0m\n",
            "\u001b[?25hDownloading tiktoken-0.8.0-cp310-cp310-manylinux_2_17_x86_64.manylinux2014_x86_64.whl (1.2 MB)\n",
            "\u001b[2K   \u001b[90m━━━━━━━━━━━━━━━━━━━━━━━━━━━━━━━━━━━━━━━━\u001b[0m \u001b[32m1.2/1.2 MB\u001b[0m \u001b[31m49.2 MB/s\u001b[0m eta \u001b[36m0:00:00\u001b[0m\n",
            "\u001b[?25hDownloading marshmallow-3.23.3-py3-none-any.whl (48 kB)\n",
            "\u001b[2K   \u001b[90m━━━━━━━━━━━━━━━━━━━━━━━━━━━━━━━━━━━━━━━━\u001b[0m \u001b[32m48.9/48.9 kB\u001b[0m \u001b[31m3.1 MB/s\u001b[0m eta \u001b[36m0:00:00\u001b[0m\n",
            "\u001b[?25hDownloading protobuf-5.29.2-cp38-abi3-manylinux2014_x86_64.whl (319 kB)\n",
            "\u001b[2K   \u001b[90m━━━━━━━━━━━━━━━━━━━━━━━━━━━━━━━━━━━━━━━━\u001b[0m \u001b[32m319.7/319.7 kB\u001b[0m \u001b[31m18.0 MB/s\u001b[0m eta \u001b[36m0:00:00\u001b[0m\n",
            "\u001b[?25hDownloading typing_inspect-0.9.0-py3-none-any.whl (8.8 kB)\n",
            "Downloading mypy_extensions-1.0.0-py3-none-any.whl (4.7 kB)\n",
            "Installing collected packages: simsimd, validators, protobuf, mypy-extensions, marshmallow, httpx-sse, grpcio, typing-inspect, tiktoken, grpcio-tools, grpcio-health-checking, pydantic-settings, openai, dataclasses-json, authlib, weaviate-client, langchain-core, langchain-weaviate, langchain-openai, langchain, langchain-community\n",
            "  Attempting uninstall: protobuf\n",
            "    Found existing installation: protobuf 4.25.5\n",
            "    Uninstalling protobuf-4.25.5:\n",
            "      Successfully uninstalled protobuf-4.25.5\n",
            "  Attempting uninstall: grpcio\n",
            "    Found existing installation: grpcio 1.68.1\n",
            "    Uninstalling grpcio-1.68.1:\n",
            "      Successfully uninstalled grpcio-1.68.1\n",
            "  Attempting uninstall: openai\n",
            "    Found existing installation: openai 1.57.4\n",
            "    Uninstalling openai-1.57.4:\n",
            "      Successfully uninstalled openai-1.57.4\n",
            "  Attempting uninstall: langchain-core\n",
            "    Found existing installation: langchain-core 0.3.25\n",
            "    Uninstalling langchain-core-0.3.25:\n",
            "      Successfully uninstalled langchain-core-0.3.25\n",
            "  Attempting uninstall: langchain\n",
            "    Found existing installation: langchain 0.3.12\n",
            "    Uninstalling langchain-0.3.12:\n",
            "      Successfully uninstalled langchain-0.3.12\n",
            "\u001b[31mERROR: pip's dependency resolver does not currently take into account all the packages that are installed. This behaviour is the source of the following dependency conflicts.\n",
            "tensorflow 2.17.1 requires protobuf!=4.21.0,!=4.21.1,!=4.21.2,!=4.21.3,!=4.21.4,!=4.21.5,<5.0.0dev,>=3.20.3, but you have protobuf 5.29.2 which is incompatible.\n",
            "tensorflow-metadata 1.13.1 requires protobuf<5,>=3.20.3, but you have protobuf 5.29.2 which is incompatible.\u001b[0m\u001b[31m\n",
            "\u001b[0mSuccessfully installed authlib-1.3.1 dataclasses-json-0.6.7 grpcio-1.69.0 grpcio-health-checking-1.69.0 grpcio-tools-1.69.0 httpx-sse-0.4.0 langchain-0.3.14 langchain-community-0.3.14 langchain-core-0.3.29 langchain-openai-0.2.14 langchain-weaviate-0.0.3 marshmallow-3.23.3 mypy-extensions-1.0.0 openai-1.59.3 protobuf-5.29.2 pydantic-settings-2.7.1 simsimd-4.4.0 tiktoken-0.8.0 typing-inspect-0.9.0 validators-0.34.0 weaviate-client-4.10.2\n"
          ]
        }
      ]
    },
    {
      "cell_type": "code",
      "source": [
        "%cd /content/drive/Shareddrives/Knowledge Graph/code/pipeline2/files"
      ],
      "metadata": {
        "id": "_F06Y45sKZiZ",
        "colab": {
          "base_uri": "https://localhost:8080/"
        },
        "outputId": "fb174e5e-410f-41f0-b00f-a3e4b39efb1a"
      },
      "execution_count": 17,
      "outputs": [
        {
          "output_type": "stream",
          "name": "stdout",
          "text": [
            "/content/drive/Shareddrives/Knowledge Graph/code/pipeline2/files\n"
          ]
        }
      ]
    },
    {
      "cell_type": "code",
      "source": [],
      "metadata": {
        "id": "LtjJILwc1mGU"
      },
      "execution_count": null,
      "outputs": []
    },
    {
      "cell_type": "code",
      "source": [
        "import os\n",
        "from langchain_weaviate.vectorstores import WeaviateVectorStore\n",
        "from langchain.chains import RetrievalQAWithSourcesChain\n",
        "from langchain_openai import OpenAIEmbeddings\n",
        "from langchain_openai import ChatOpenAI\n",
        "import weaviate\n",
        "from weaviate.classes.init import Auth\n",
        "import textwrap\n",
        "\n",
        "def rag():\n",
        "    weaviate_url = os.getenv(\"WEAVIATE_URL\")\n",
        "    weaviate_api_key = os.getenv(\"WEAVIATE_API_KEY\")\n",
        "\n",
        "    client = weaviate.connect_to_weaviate_cloud(\n",
        "        cluster_url=weaviate_url,\n",
        "        auth_credentials=Auth.api_key(weaviate_api_key),\n",
        "        headers={\n",
        "            \"X-OpenAI-Api-Key\": os.environ[\"OPENAI_API_TOKEN\"]\n",
        "        }\n",
        "    )\n",
        "\n",
        "    print(client.is_ready())\n",
        "\n",
        "\n",
        "    embedding_model = OpenAIEmbeddings(\n",
        "        api_key=os.getenv(\"OPENAI_API_TOKEN\")\n",
        "    )\n",
        "    vectorstore = WeaviateVectorStore(client=client, index_name=\"Triple\", text_key=\"triple\", embedding=embedding_model, attributes=[\"source\"])\n",
        "\n",
        "    retriever = vectorstore.as_retriever()\n",
        "    llm = ChatOpenAI(\n",
        "        temperature=0,\n",
        "        api_key=os.getenv(\"OPENAI_API_TOKEN\"),\n",
        "        model_name=\"gpt-3.5-turbo\")\n",
        "    chain = RetrievalQAWithSourcesChain.from_chain_type(\n",
        "        llm=llm,\n",
        "        chain_type=\"stuff\",\n",
        "        retriever=retriever,\n",
        "    )\n",
        "\n",
        "    def prettychain(question: str) -> str:\n",
        "        \"\"\"Pretty print the chain's response to a question\"\"\"\n",
        "        response = chain({\"question\": question},\n",
        "            return_only_outputs=True,)\n",
        "        print(textwrap.fill(response['answer'], 60))\n",
        "\n",
        "    def prettychain3(question: str) -> None:\n",
        "        \"\"\"Pretty print the chain's response to a question, including sources\"\"\"\n",
        "        response = chain({\"question\": question}, return_only_outputs=True)\n",
        "        answer = response.get(\"answer\", \"No answer provided.\")\n",
        "        sources = response.get(\"sources\", \"No sources found.\")\n",
        "        print(\"Answer:\")\n",
        "        print(textwrap.fill(answer, 60))\n",
        "        print(\"\\nSources:\")\n",
        "        print(textwrap.fill(sources, 60))\n",
        "\n",
        "    def prettychain2(question) -> str:\n",
        "        \"\"\"Pretty print the response to a question directly from the LLM\"\"\"\n",
        "        response = llm.invoke(question)\n",
        "        print(response.content)\n",
        "\n",
        "    question = \"What does the T1115 technique read?\"\n",
        "    print(question)\n",
        "    print(\"-----------------------------------------RAG-------------------------------------------------\")\n",
        "    prettychain3(question)\n",
        "    print(\"-----------------------------------------LLM-------------------------------------------------\")\n",
        "    prettychain2(question)\n",
        "    print(\"--------------------------------------------------------------------------------------\")\n",
        "\n",
        "    question2 = \"What is the definition of PacketLog?\"\n",
        "    print(question2)\n",
        "    print(\"-----------------------------------------RAG-------------------------------------------------\")\n",
        "    prettychain3(question2)\n",
        "    print(\"-----------------------------------------LLM-------------------------------------------------\")\n",
        "    prettychain2(question2)\n",
        "    print(\"--------------------------------------------------------------------------------------\")\n",
        "    #print(vectorstore.similarity_search(question))\n",
        "    #print(retriever.get_relevant_documents(question))\n",
        "\n",
        "\n",
        "\n",
        "if __name__ == \"__main__\":\n",
        "    rag()"
      ],
      "metadata": {
        "colab": {
          "base_uri": "https://localhost:8080/"
        },
        "id": "IUTNXrwJUOK2",
        "outputId": "6d3c7ef1-28b0-4fd3-f489-b329ae525b81"
      },
      "execution_count": 38,
      "outputs": [
        {
          "output_type": "stream",
          "name": "stdout",
          "text": [
            "True\n",
            "What does the T1115 technique read?\n",
            "-----------------------------------------RAG-------------------------------------------------\n",
            "Answer:\n",
            "The T1115 technique reads the clipboard.\n",
            "\n",
            "Sources:\n",
            "T1115--reads--Clipboard\n",
            "-----------------------------------------LLM-------------------------------------------------\n",
            "The T1115 technique, also known as \"Clipboard Modification,\" reads data from the Windows clipboard. This technique is commonly used by attackers to steal sensitive information such as passwords, credit card numbers, or other confidential data that users may have copied to their clipboard.\n",
            "--------------------------------------------------------------------------------------\n",
            "What is the definition of PacketLog?\n",
            "-----------------------------------------RAG-------------------------------------------------\n",
            "Answer:\n",
            "PacketLog is defined as a log of all the network packet data\n",
            "captured from a network by a network sensor (i.e., packet\n",
            "analyzer).\n",
            "\n",
            "Sources:\n",
            "PacketLog--definition--A log of all the network packet data\n",
            "captured from a network by a network sensor (i.e., packet\n",
            "analyzer)\n",
            "-----------------------------------------LLM-------------------------------------------------\n",
            "PacketLog is a software tool or feature that captures and logs network packets for analysis and troubleshooting purposes. It allows network administrators to monitor and analyze network traffic in real-time or retrospectively to identify issues, security threats, or performance bottlenecks.\n",
            "--------------------------------------------------------------------------------------\n"
          ]
        }
      ]
    },
    {
      "cell_type": "code",
      "source": [
        "import os\n",
        "from langchain_weaviate.vectorstores import WeaviateVectorStore\n",
        "from langchain.chains import RetrievalQAWithSourcesChain\n",
        "from langchain_openai import OpenAIEmbeddings\n",
        "from langchain_openai import ChatOpenAI\n",
        "import weaviate\n",
        "from weaviate.classes.init import Auth\n",
        "import textwrap\n",
        "\n",
        "def rag():\n",
        "    weaviate_url = \"https://ztzcuq1r6ogar9anhtr2a.c0.europe-west3.gcp.weaviate.cloud\"\n",
        "    weaviate_api_key = \"40WeAARm6JgzWOYN9rGUiY2ANZOlG4PtFmiY\"\n",
        "\n",
        "    client = weaviate.connect_to_weaviate_cloud(\n",
        "        cluster_url=weaviate_url,\n",
        "        auth_credentials=Auth.api_key(weaviate_api_key),\n",
        "        headers={\n",
        "            \"X-OpenAI-Api-Key\": os.environ[\"OPENAI_API_TOKEN\"]\n",
        "        }\n",
        "    )\n",
        "\n",
        "    print(client.is_ready())\n",
        "\n",
        "\n",
        "    embedding_model = OpenAIEmbeddings(\n",
        "        api_key=os.getenv(\"OPENAI_API_TOKEN\")\n",
        "    )\n",
        "    vectorstore = WeaviateVectorStore(client=client, index_name=\"Triple\", text_key=\"triple\", embedding=embedding_model, attributes=[\"source\"])\n",
        "\n",
        "    retriever = vectorstore.as_retriever()\n",
        "    llm = ChatOpenAI(\n",
        "        temperature=0,\n",
        "        api_key=os.getenv(\"OPENAI_API_TOKEN\"),\n",
        "        model_name=\"gpt-3.5-turbo\")\n",
        "    chain = RetrievalQAWithSourcesChain.from_chain_type(\n",
        "        llm=llm,\n",
        "        chain_type=\"stuff\",\n",
        "        retriever=retriever,\n",
        "    )\n",
        "\n",
        "    def prettychain(question: str) -> str:\n",
        "        \"\"\"Pretty print the chain's response to a question\"\"\"\n",
        "        response = chain({\"question\": question},\n",
        "            return_only_outputs=True,)\n",
        "        print(textwrap.fill(response['answer'], 60))\n",
        "\n",
        "    #def prettychain(question) -> str:\n",
        "    #    \"\"\"Pretty print the chain's response to a question\"\"\"\n",
        "    #    response = chain({\"question\": question}, return_only_outputs=True)\n",
        "    #    print(response)\n",
        "\n",
        "    def prettychain2(question) -> str:\n",
        "        \"\"\"Pretty print the response to a question directly from the LLM\"\"\"\n",
        "        response = llm.invoke(question)\n",
        "        print(response.content)\n",
        "\n",
        "    question = \"What does the user do in my architecture?\"\n",
        "    print(question)\n",
        "    print(\"RAG\")\n",
        "    prettychain(question)\n",
        "    print(\"LLM\")\n",
        "    prettychain2(question)\n",
        "    print(\"--------------------------------------------------------------------------------------\")\n",
        "    question2 = \"How many types of mail servers do I have in my architecture?\"\n",
        "    print(question2)\n",
        "    print(\"RAG\")\n",
        "    prettychain(question2)\n",
        "    print(\"LLM\")\n",
        "    prettychain2(question2)\n",
        "    print(\"--------------------------------------------------------------------------------------\")\n",
        "    question3 = \"Which mail server retrieves emails for the user?\"\n",
        "    print(question3)\n",
        "    print(\"RAG\")\n",
        "    prettychain(question3)\n",
        "    print(\"LLM\")\n",
        "    prettychain2(question3)\n",
        "\n",
        "\n",
        "    #print(vectorstore.similarity_search(question))\n",
        "    #print(retriever.get_relevant_documents(question))\n",
        "\n",
        "\n",
        "\n",
        "if __name__ == \"__main__\":\n",
        "    rag()"
      ],
      "metadata": {
        "colab": {
          "base_uri": "https://localhost:8080/"
        },
        "id": "hQFYL8jWwDzv",
        "outputId": "7b43dc2f-81b4-4934-a7b1-bb6ba2f6499f"
      },
      "execution_count": 11,
      "outputs": [
        {
          "output_type": "stream",
          "name": "stdout",
          "text": [
            "True\n",
            "What does the user do in my architecture?\n",
            "RAG\n",
            "The user uses the EmailClient in the architecture.\n",
            "LLM\n",
            "In your architecture, the user interacts with the system by inputting commands, requests, or data through the user interface. The user's actions trigger processes within the system, such as data processing, communication with external systems, or generating outputs. The user may also receive feedback, notifications, or results from the system based on their interactions. Overall, the user plays a crucial role in driving the functionality and behavior of the architecture.\n",
            "--------------------------------------------------------------------------------------\n",
            "How many types of mail servers do I have in my architecture?\n",
            "RAG\n",
            "You have two types of mail servers in your architecture.\n",
            "LLM\n",
            "It is not possible to determine the number of mail servers in your architecture without more information about your specific setup. The number of mail servers can vary depending on the size and complexity of your architecture, as well as your specific requirements and configurations. Some common types of mail servers include SMTP servers, IMAP servers, and POP3 servers.\n",
            "--------------------------------------------------------------------------------------\n",
            "Which mail server retrieves emails for the user?\n",
            "RAG\n",
            "The IMAP server retrieves emails for the user.\n",
            "LLM\n",
            "The mail server that retrieves emails for the user is typically the incoming mail server, also known as the POP3 (Post Office Protocol 3) or IMAP (Internet Message Access Protocol) server. This server is responsible for receiving and storing incoming emails for the user to access and download to their email client or webmail interface.\n"
          ]
        }
      ]
    }
  ]
}